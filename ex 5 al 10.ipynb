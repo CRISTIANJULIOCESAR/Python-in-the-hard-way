{
 "cells": [
  {
   "cell_type": "code",
   "execution_count": 3,
   "metadata": {
    "scrolled": false
   },
   "outputs": [
    {
     "name": "stdout",
     "output_type": "stream",
     "text": [
      "Let's talk about Zed A. Shaw\n",
      "He's 74 inches tall.\n",
      "He's 180 pounds heavy.\n",
      "He's got Blue eyes and Brown hair.\n",
      "Actually that's not too heavy\n",
      "His teeth are usually White depending on the coffee.\n",
      "If I add 35, 74 and 180 I get 289.\n"
     ]
    }
   ],
   "source": [
    "my_name = 'Zed A. Shaw'\n",
    "my_age = 35      # not a lie\n",
    "my_height = 74   # inches\n",
    "my_weight = 180  # lbs\n",
    "my_eyes = \"Blue\"\n",
    "my_teeth = 'White'\n",
    "my_hair = 'Brown'\n",
    "\n",
    "print(\"Let's talk about %s\" % my_name)\n",
    "print(\"He's %d inches tall.\" % my_height)\n",
    "print(\"He\\'s %d pounds heavy.\" % my_weight)\n",
    "print(\"He's got %s eyes and %s hair.\" % (my_eyes, my_hair))\n",
    "print(\"Actually that's not too heavy\")\n",
    "print(\"His teeth are usually %s depending on the coffee.\" % my_teeth)\n",
    "\n",
    "# this line is tricky, try to get it exactly right\n",
    "print('If I add %d, %d and %d I get %d.' % (my_age, my_height, my_weight, my_age + my_height + my_weight))"
   ]
  },
  {
   "cell_type": "markdown",
   "metadata": {},
   "source": [
    "%s es un 'Formatter'.... "
   ]
  },
  {
   "cell_type": "code",
   "execution_count": 6,
   "metadata": {},
   "outputs": [
    {
     "name": "stdout",
     "output_type": "stream",
     "text": [
      "la casa roja entonces....lalala \n"
     ]
    }
   ],
   "source": [
    "cosa = \"lalala\"\n",
    "print( \"la casa roja entonces....%s \"% cosa )"
   ]
  },
  {
   "cell_type": "markdown",
   "metadata": {},
   "source": [
    "NO SE TE OLVDE PORNER % en esta estructura ....%s\" variable\n",
    "Hay muchos 'Formatters'"
   ]
  },
  {
   "cell_type": "markdown",
   "metadata": {},
   "source": [
    "# Exercise 6 Strings and Text"
   ]
  },
  {
   "cell_type": "code",
   "execution_count": 7,
   "metadata": {},
   "outputs": [
    {
     "name": "stdout",
     "output_type": "stream",
     "text": [
      "There are 10 types of people.\n",
      "Those who know binary and those who don't.\n",
      "I said 'There are 10 types of people.'.\n",
      "I also said: 'Those who know binary and those who don't.'.\n",
      "Isn't that joke so funny?! False\n",
      "This is the left side of...a string with a right side.\n"
     ]
    }
   ],
   "source": [
    "\n",
    "# ex6: String and Text\n",
    "\n",
    "x = \"There are %d types of people.\" % 10\n",
    "binary = \"binary\"\n",
    "do_not = \"don't\"\n",
    "y = \"Those who know %s and those who %s.\" % (binary, do_not)  # Two strings inside of a string\n",
    "\n",
    "print(x)\n",
    "print(y)\n",
    "\n",
    "print(\"I said %r.\" % x)  # One string inside of a string\n",
    "print(\"I also said: '%s'.\" % y)  # One string inside of a string\n",
    "\n",
    "hilarious = False\n",
    "joke_evaluation = \"Isn't that joke so funny?! %r\" \n",
    "\n",
    "print(joke_evaluation % hilarious)  # One string inside of a string\n",
    "\n",
    "w = \"This is the left side of...\"\n",
    "e = \"a string with a right side.\"\n",
    "\n",
    "print(w + e)"
   ]
  },
  {
   "cell_type": "code",
   "execution_count": 8,
   "metadata": {},
   "outputs": [
    {
     "name": "stdout",
     "output_type": "stream",
     "text": [
      "blablabla nacho  pikachu\n"
     ]
    }
   ],
   "source": [
    "pokemon = \"pikachu\"\n",
    "t = \"blablabla\"\n",
    "print (t,\"nacho  %s\"% pokemon )"
   ]
  },
  {
   "cell_type": "markdown",
   "metadata": {},
   "source": [
    "se hizo un string dentro de un string"
   ]
  },
  {
   "cell_type": "code",
   "execution_count": 11,
   "metadata": {},
   "outputs": [
    {
     "name": "stdout",
     "output_type": "stream",
     "text": [
      "There are 10 types of people.\n",
      "Those who know binary and those who don't.\n",
      "I said: There are 10 types of people.\n",
      "I also said: 'Those who know binary and those who don't.'\n",
      "Isn't that joke so funny?! False\n",
      "This is the left side of...a string with a right side.\n"
     ]
    }
   ],
   "source": [
    "types_of_people = 10\n",
    "x = f\"There are {types_of_people} types of people.\"\n",
    "\n",
    "binary = \"binary\"\n",
    "do_not = \"don't\"\n",
    "y = f\"Those who know {binary} and those who {do_not}.\"\n",
    "print(x)\n",
    "print(y)\n",
    "print(f\"I said: {x}\")\n",
    "print(f\"I also said: '{y}'\")\n",
    "\n",
    "\n",
    "hilarious = False\n",
    "\n",
    "joke_evaluation = \"Isn't that joke so funny?! {}\"\n",
    "\n",
    "\n",
    "print(joke_evaluation.format(hilarious))\n",
    "\n",
    "w = \"This is the left side of...\"\n",
    "e = \"a string with a right side.\"\n",
    "\n",
    "\n",
    "print(w + e)\n"
   ]
  },
  {
   "cell_type": "markdown",
   "metadata": {},
   "source": [
    "Mira como el \"f\" a lado  de un string\"\" a\n"
   ]
  },
  {
   "cell_type": "markdown",
   "metadata": {},
   "source": [
    "PEP 498 -- Literal String Interpolation"
   ]
  },
  {
   "cell_type": "code",
   "execution_count": 19,
   "metadata": {},
   "outputs": [
    {
     "name": "stdout",
     "output_type": "stream",
     "text": [
      "cosa   lalalala\n"
     ]
    }
   ],
   "source": [
    "##ejemplo\n",
    "cosa_1 = \"   lalalala\"\n",
    "cosa = f\"cosa{cosa_1}\"\n",
    "print(cosa)"
   ]
  },
  {
   "cell_type": "code",
   "execution_count": 23,
   "metadata": {},
   "outputs": [
    {
     "name": "stdout",
     "output_type": "stream",
     "text": [
      "Verdad que es....False ?\n",
      "Verdad que es....False ?\n",
      "Verdad que es....False ?Verdad que es....{} ?\n"
     ]
    }
   ],
   "source": [
    "cosa = False\n",
    "cosa_3 = \"Verdad que es....{} ?\"\n",
    "u = cosa_3.format(cosa)\n",
    "print (cosa_3.format(cosa))\n",
    "\n",
    "print (u)\n",
    "\n",
    "print ( u  + cosa_3)"
   ]
  },
  {
   "cell_type": "markdown",
   "metadata": {},
   "source": [
    "Mira para que funcionan los brackets aquí esto se menciona en python 3"
   ]
  },
  {
   "cell_type": "markdown",
   "metadata": {},
   "source": [
    "# Ejercicio 8  Printing, Printing"
   ]
  },
  {
   "cell_type": "code",
   "execution_count": 24,
   "metadata": {},
   "outputs": [
    {
     "name": "stdout",
     "output_type": "stream",
     "text": [
      "1 2 3 4\n",
      "one two three four\n",
      "True False False True\n",
      "{} {} {} {} {} {} {} {} {} {} {} {} {} {} {} {}\n",
      "Try your Own text here Maybe a poem Or a song about fear\n"
     ]
    }
   ],
   "source": [
    "formatter = \"{} {} {} {}\"\n",
    "print(formatter.format(1, 2, 3, 4))\n",
    "print(formatter.format(\"one\", \"two\", \"three\", \"four\"))\n",
    "print(formatter.format(True, False, False, True))\n",
    "print(formatter.format(formatter, formatter, formatter, formatter))\n",
    "print(formatter.format(\n",
    "\"Try your\",\n",
    "\"Own text here\",\n",
    " \"Maybe a poem\",\n",
    " \"Or a song about fear\"\n",
    "\n",
    "))"
   ]
  },
  {
   "cell_type": "markdown",
   "metadata": {},
   "source": [
    "In this exercise I’m using something called a ”function” to turn the formatter variable into other strings.\n",
    "When you see me write formatter.format(...) I’m telling python to do the following:"
   ]
  },
  {
   "cell_type": "markdown",
   "metadata": {},
   "source": [
    "# Ejercicio 9  Printing, Printing, Printing"
   ]
  },
  {
   "cell_type": "code",
   "execution_count": 26,
   "metadata": {},
   "outputs": [
    {
     "name": "stdout",
     "output_type": "stream",
     "text": [
      "Here are the days:  Mon Tue Wed Thu Fri Sat Sun\n",
      "Here are the months:  Jan\n",
      "Feb\n",
      "Mar\n",
      "Apr\n",
      "May\n",
      "Jun\n",
      "Jul\n",
      "Aug\n",
      "\n",
      " There's something going on here.\n",
      " With the three double-quotes.\n",
      " We'll be able to type as much as we like.\n",
      " Even 4 lines if we want, or 5, or 6.\n",
      " \n"
     ]
    }
   ],
   "source": [
    "# Here's some new strange stuff, remember type it exactly.\n",
    "\n",
    "days = \"Mon Tue Wed Thu Fri Sat Sun\"\n",
    "months = \"Jan\\nFeb\\nMar\\nApr\\nMay\\nJun\\nJul\\nAug\"\n",
    "\n",
    "print(\"Here are the days: \", days)\n",
    "print(\"Here are the months: \", months)\n",
    "\n",
    "print(\"\"\"\n",
    " There's something going on here.\n",
    " With the three double-quotes.\n",
    " We'll be able to type as much as we like.\n",
    " Even 4 lines if we want, or 5, or 6.\n",
    " \"\"\")"
   ]
  },
  {
   "cell_type": "markdown",
   "metadata": {},
   "source": [
    "Mira que pasa con este cambio observa el efecto de \\n"
   ]
  },
  {
   "cell_type": "code",
   "execution_count": 28,
   "metadata": {},
   "outputs": [
    {
     "name": "stdout",
     "output_type": "stream",
     "text": [
      "Here are the months:  \n",
      "Jan\n",
      "Feb\n",
      "Mar\n",
      "Apr\n",
      "May\n",
      "Jun\n",
      "Jul\n",
      "Aug\n"
     ]
    }
   ],
   "source": [
    "meses = \"\\nJan\\nFeb\\nMar\\nApr\\nMay\\nJun\\nJul\\nAug\"\n",
    "\n",
    "print(\"Here are the months: \", meses)"
   ]
  },
  {
   "cell_type": "markdown",
   "metadata": {},
   "source": [
    "viste que le paso a enero?? en si lo que hace es que se pasa al singuiente renglón"
   ]
  },
  {
   "cell_type": "markdown",
   "metadata": {},
   "source": [
    "# Ejercicio 10 What Was That?"
   ]
  },
  {
   "cell_type": "code",
   "execution_count": 29,
   "metadata": {
    "scrolled": true
   },
   "outputs": [
    {
     "name": "stdout",
     "output_type": "stream",
     "text": [
      "\tI'm tabbed in.\n",
      "I'm split\n",
      "on a line.\n",
      "I'm \\ a \\ cat.\n",
      "\n",
      "I'll do a list:\n",
      "\t* Cat food\n",
      "\t* Fishies\n",
      "\t* Catnip\n",
      "\t* Grass\n",
      "\n",
      "\n"
     ]
    }
   ],
   "source": [
    "tabby_cat = \"\\tI'm tabbed in.\"\n",
    "persian_cat = \"I'm split\\non a line.\"\n",
    "backslash_cat = \"I'm \\\\ a \\\\ cat.\"\n",
    "\n",
    "fat_cat = \"\"\"\n",
    "I'll do a list:\n",
    "\\t* Cat food\n",
    "\\t* Fishies\n",
    "\\t* Catnip\\n\\t* Grass\n",
    "\n",
    "\"\"\"\n",
    "\n",
    "print(tabby_cat)\n",
    "print(persian_cat)\n",
    "print(backslash_cat)\n",
    "print(fat_cat)"
   ]
  },
  {
   "cell_type": "markdown",
   "metadata": {},
   "source": [
    "Escape Sequences son muchas haz una tarjeta para no memo.."
   ]
  },
  {
   "cell_type": "code",
   "execution_count": 33,
   "metadata": {},
   "outputs": [
    {
     "name": "stdout",
     "output_type": "stream",
     "text": [
      "\t ixmajana\n",
      "ixmajaná\n"
     ]
    }
   ],
   "source": [
    "print(\"\\t ixmajana\")\n",
    "print(\"ixmajaná\")"
   ]
  },
  {
   "cell_type": "code",
   "execution_count": null,
   "metadata": {},
   "outputs": [],
   "source": []
  }
 ],
 "metadata": {
  "kernelspec": {
   "display_name": "Python 3",
   "language": "python",
   "name": "python3"
  },
  "language_info": {
   "codemirror_mode": {
    "name": "ipython",
    "version": 3
   },
   "file_extension": ".py",
   "mimetype": "text/x-python",
   "name": "python",
   "nbconvert_exporter": "python",
   "pygments_lexer": "ipython3",
   "version": "3.7.4"
  }
 },
 "nbformat": 4,
 "nbformat_minor": 2
}
